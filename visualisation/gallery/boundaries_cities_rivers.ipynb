{
 "cells": [
  {
   "cell_type": "markdown",
   "metadata": {},
   "source": [
    "# Exploring different Coastline options in Magics\n",
    "\n",
    "This notebook will help you discover lots of posibilities for designing background of your maps in Magics."
   ]
  },
  {
   "cell_type": "markdown",
   "metadata": {},
   "source": [
    "If you don't have Magics installed, run the next cell to install Magics using conda."
   ]
  },
  {
   "cell_type": "code",
   "execution_count": null,
   "metadata": {},
   "outputs": [],
   "source": [
    "# Install Magics in the current Jupyter kernel\n",
    "import sys\n",
    "!conda install --yes --prefix {sys.prefix} Magics"
   ]
  },
  {
   "cell_type": "markdown",
   "metadata": {},
   "source": [
    "**mcoast** controls background of our maps. Here you can set things like colours of land and sea, coastline resolution and colour, and also grid, rivers, boarders, cities etc.  \n",
    "List of all **mcoast** parameters you can find [here](https://confluence.ecmwf.int/display/MAGP/Coastlines \"Coastlines parameters\")"
   ]
  },
  {
   "cell_type": "markdown",
   "metadata": {
    "collapsed": true
   },
   "source": [
    "This notebook is simple one cell example of plotting administrative boundaries, cities and rivers.\n",
    "\n",
    "If we want to plot administrative boundaries we need to provide a list of countries for which we want to show them. Convention used is the [3 Letters ISO Codes](https://en.wikipedia.org/wiki/ISO_3166-1_alpha-3 \"3 letter country code\"), e.g FRA for France, DEU for Germany and GBR for the UK."
   ]
  },
  {
   "cell_type": "code",
   "execution_count": null,
   "metadata": {},
   "outputs": [],
   "source": [
    "import Magics.macro as magics\n",
    "\n",
    "projection = magics.mmap(\n",
    "    subpage_map_library_area = \"on\",\n",
    "    subpage_map_area_name    = 'central_europe',\n",
    "    page_id_line             = \"off\"\n",
    ")\n",
    "\n",
    "\n",
    "coast = magics.mcoast(\n",
    "    map_boundaries                               = \"on\",\n",
    "    map_boundaries_colour                        = \"red\",\n",
    "    map_coastline_resolution                     = \"high\",\n",
    "    map_coastline_land_shade_colour              = \"cream\",\n",
    "    map_cities                                   = \"on\",\n",
    "    map_grid                                     = \"off\",\n",
    "    map_coastline_land_shade                     = \"on\",\n",
    "    map_coastline_colour                         = \"tan\",\n",
    "    map_administrative_boundaries                = \"on\",\n",
    "    map_administrative_boundaries_countries_list = [\"FRA\", \"ESP\", \"GBR\"],\n",
    "    map_administrative_boundaries_colour         = \"orange\",\n",
    "    map_rivers                                   = \"on\"\n",
    ")\n",
    "\n",
    "magics.plot(projection, coast)"
   ]
  }
 ],
 "metadata": {
  "kernelspec": {
   "display_name": "Python 3",
   "language": "python",
   "name": "python3"
  },
  "language_info": {
   "codemirror_mode": {
    "name": "ipython",
    "version": 3
   },
   "file_extension": ".py",
   "mimetype": "text/x-python",
   "name": "python",
   "nbconvert_exporter": "python",
   "pygments_lexer": "ipython3",
   "version": "3.6.10"
  }
 },
 "nbformat": 4,
 "nbformat_minor": 2
}
