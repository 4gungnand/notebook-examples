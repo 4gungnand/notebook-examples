{
 "cells": [
  {
   "cell_type": "markdown",
   "metadata": {
    "slideshow": {
     "slide_type": "slide"
    }
   },
   "source": [
    "# Exploring arranging several pages in one layout  in Magics\n",
    "\n",
    "This notebook will help you discover how to plot several maps on one page using Magics.\n",
    "\n",
    "At ECMWF  \n",
    "\n",
    "From your workstation:\n",
    "--------------\n",
    "\n",
    "load python3  \n",
    "module swap (or load) Magics/new   \n",
    "jupyter notebook  \n",
    "\n",
    "load this notebook\n",
    "\n"
   ]
  },
  {
   "cell_type": "markdown",
   "metadata": {
    "slideshow": {
     "slide_type": "subslide"
    }
   },
   "source": [
    "The position of a page is set with the 4 following parameters\n",
    "\n",
    "- **page_x_position / page_y_position** : to position in cm the bottom left corner of the page in its parent\n",
    "- **page_x_length / page_y_length** : the dimension in cm.\n",
    "\n",
    "The drawing area ( where the plotting is rendered) is called subpage and can position into the page using the 4 following parameters\n",
    "\n",
    "- **subpage_x_position / subpage_y_position** : to position in cm the bottom left corner of the drawing area (subpage)  in its parent page.\n",
    "- **subpage_x_length / subpage_y_length** : the dimension in cm."
   ]
  },
  {
   "cell_type": "markdown",
   "metadata": {
    "collapsed": true,
    "slideshow": {
     "slide_type": "subslide"
    }
   },
   "source": [
    "### Import Magics and define projection, dark background, light background, foreground and load data\n",
    "\n",
    "We will compose one image with 4 maps: \n",
    "- top left : temperature at 850 hPa and geopotential height at 500 hPa\n",
    "- top right : precipitation type\n",
    "- bottom left : simulated satellite image IR channel\n",
    "- bottom right : total precipitation\n",
    "\n",
    "For start let's import Magics and define background, foreground and load data for our maps.  "
   ]
  },
  {
   "cell_type": "code",
   "execution_count": 1,
   "metadata": {
    "collapsed": true,
    "slideshow": {
     "slide_type": "slide"
    }
   },
   "outputs": [],
   "source": [
    "import Magics.macro as magics\n",
    "\n",
    "projection = magics.mmap(\n",
    "    subpage_clipping         = \"on\",\n",
    "    subpage_map_library_area = \"on\",\n",
    "    subpage_map_area_name    = \"central_europe\"\n",
    ")\n",
    "\n",
    "light_background = magics.mcoast(\n",
    "    map_coastline_sea_shade_colour  = 'white',\n",
    "    map_coastline_land_shade_colour = 'cream',\n",
    "    map_grid                        = 'off',\n",
    "    map_coastline_land_shade        = 'on',\n",
    "    map_coastline_sea_shade         = 'on',\n",
    "    map_label                       = 'off',\n",
    "    map_coastline_colour            = 'tan')\n",
    "\n",
    "dark_background = magics.mcoast(\n",
    "    map_coastline_colour            = \"grey\",\n",
    "    map_coastline_resolution        = \"medium\",\n",
    "    map_coastline_thickness         = 2,\n",
    "    map_coastline_land_shade        = \"on\",\n",
    "    map_coastline_land_shade_colour = \"RGB(0.25,0.25,0.25)\",\n",
    "    map_coastline_sea_shade         = \"on\",\n",
    "    map_coastline_sea_shade_colour  = \"black\",\n",
    "    map_grid_line_style             = \"dash\",\n",
    "    map_grid_colour                 = \"grey\"\n",
    ")\n",
    "\n",
    "foreground = magics.mcoast()\n",
    "\n",
    "# Different meteorological parameter we will plot in this notebook\n",
    "temperature   = magics.mgrib(grib_input_file_name = \"t850.grib\")\n",
    "geopotential  = magics.mgrib(grib_input_file_name = \"z500.grib\")\n",
    "precipitation = magics.mgrib(grib_input_file_name = \"total_precipitation.grib\")\n",
    "sat_ir        = magics.mgrib(grib_input_file_name = \"ssd.grib\",\n",
    "                             grib_automatic_scaling = \"off\")\n",
    "ptype         = magics.mgrib(grib_input_file_name = \"ptype.grib\")"
   ]
  },
  {
   "cell_type": "markdown",
   "metadata": {
    "slideshow": {
     "slide_type": "fragment"
    }
   },
   "source": [
    "### Shading and symbol definitions\n",
    "\n",
    "Now we define contours for all fields. \n",
    "\n",
    "Temperature - gradients method for shading  (Mores shading examples you can find [in this notebook](Contours_shading.ipynb \"Shading contours\"))  \n",
    "Geopotential height - automatic style from ecCharts  (More examples of automatic styles you can find [in this notebook](Contours_automtatic.ipynb \"Automatic contours\"))\n",
    "\n",
    "Precipitation type - advanced symbol plotting (More examples of symbol plotting you can find in [simple symbol](Symbol_simple.ipynb \"Symple symbol plotting\") and [advanced symbol](Symbol_advanced.ipynb \"Advanced symbol plotting\") notebooks)\n",
    "\n",
    "Brightness temperature - cell shading  \n",
    "\n",
    "Total precipitation - poligon shading with user defined list of level and colours"
   ]
  },
  {
   "cell_type": "code",
   "execution_count": 2,
   "metadata": {},
   "outputs": [],
   "source": [
    "# Temperature shading\n",
    "t_cont = magics.mcont(\n",
    "    legend                            = \"on\",\n",
    "    contour                           = \"off\",\n",
    "    contour_level_selection_type      = \"level_list\",\n",
    "    contour_level_list                = [-30.,-20.,0.,20.,30.],\n",
    "    contour_gradients_step_list       = [5, 10 ,10 ,5],\n",
    "    contour_label                     = \"off\",\n",
    "    contour_shade                     = \"on\",\n",
    "    contour_shade_colour_method       = \"gradients\",\n",
    "    contour_gradients_technique       = \"rgb\",\n",
    "    contour_shade_method              = \"area_fill\",\n",
    "    contour_gradients_colour_list     = [\"RGB(0.01961,0.251,0.4157)\",\"greenish_blue\",\"white\",\n",
    "                                         \"orangish_red\",\"RGB(0.3756,0.06648,0.05582)\"],\n",
    "    contour_gradients_waypoint_method = \"ignore\")\n",
    "\n",
    "# Geopotential shading - default ECMWF style\n",
    "ecmwf_cont = magics.mcont(\n",
    "    contour_automatic_setting = \"ecmwf\",\n",
    "    legend                    = \"off\")\n",
    "\n",
    "symbol_plotting = magics.msymb(\n",
    "    symbol_advanced_table_colour_method    = \"list\",\n",
    "    symbol_advanced_table_height_method    = \"calculate\",\n",
    "    symbol_advanced_table_height_min_value = 1.,\n",
    "    symbol_advanced_table_height_max_value = 1.,\n",
    "    symbol_type                            = \"marker\",\n",
    "    symbol_table_mode                      = \"advanced\",\n",
    "    symbol_marker_mode                     = \"name\",\n",
    "    symbol_advanced_table_selection_type   = \"list\",\n",
    "    symbol_advanced_table_colour_list      = [\"green\",\"red\",\"blue\",\"navy\",\"turquoise\",\"orange\"],\n",
    "    symbol_advanced_table_level_list       = [1.00,3.00,5.00,6.00,7.00,8.00,9.00],\n",
    "    symbol_advanced_table_marker_name_list = [\"ww_60\",\"ww_67\",\"ww_70\",\"ww_68\",\"ww_69\",\"ww_79\"])\n",
    "\n",
    "# Cell shading for Brightness temperature\n",
    "ir_clouds = magics.mcont(\n",
    "    contour_shade_colour_direction   = \"anti_clockwise\",\n",
    "    contour_shade_min_level_colour   = \"white\",\n",
    "    contour_shade_max_level_colour   = \"black\",\n",
    "    contour_shade_colour_method      = \"calculate\",\n",
    "    legend                           = \"on\",\n",
    "    contour                          = \"off\",\n",
    "    contour_level_selection_type     = \"level_list\",\n",
    "    contour_level_list               = [170.,199.,201.,203.,205.,207,208,209,210,\n",
    "                                        211,212,213,214,215,216,217,218,219,220,\n",
    "                                        221,222,223,224,225,226,227,228,229,230,\n",
    "                                        231,232,233,234,235,236,237,238,239,240,\n",
    "                                        241,242,243,244,245,246,247,249,251,253,\n",
    "                                        255,257,259,261,263,265,267,269,271,273,\n",
    "                                        275,277,279,281,283,285,287,289,291,293,\n",
    "                                        295,297,299,301,303,305,307,310,315,320,350],\n",
    "    contour_shade                    = \"on\",\n",
    "    contour_shade_technique          = \"cell_shading\",\n",
    "    contour_shade_cell_resolution    = 80\n",
    "    )\n",
    "\n",
    "# Precipitation shading\n",
    "tp_cont = magics.mcont(\n",
    "    contour_level_selection_type   = \"level_list\",\n",
    "    contour_level_list             = [0.5, 1, 2, 5, 10, 20, 50, 100, 200, 500],\n",
    "    contour_shade                  = \"on\",\n",
    "    contour_shade_method           = \"area_fill\",\n",
    "    contour_shade_colour_method    = \"list\",\n",
    "    contour_shade_colour_list      = ['#ffffd9','#edf8b1','#c7e9b4',\n",
    "                                      '#7fcdbb','#41b6c4','#1d91c0',\n",
    "                                      '#225ea8','#253494','#081d58'],\n",
    "    contour                        = \"off\",\n",
    "    legend                         = \"on\"\n",
    ")"
   ]
  },
  {
   "cell_type": "markdown",
   "metadata": {},
   "source": [
    "### Legends\n",
    "\n",
    "Lets define legends for our plots.  \n",
    "All but one will be on the right side and we will use automatic box mode and let Magics put it in the right position. Only the symbol legend will be on top because it takes less space there. "
   ]
  },
  {
   "cell_type": "code",
   "execution_count": 3,
   "metadata": {},
   "outputs": [],
   "source": [
    "tp_legend = magics.mlegend (    \n",
    "    legend_display_type       = \"continuous\",\n",
    "    legend_automatic_position = \"right\",\n",
    "    legend_title              = \"on\",\n",
    "    legend_title_text         = \"Total precipitation\",\n",
    "    legend_text_font_size     = \"0.45\",\n",
    "    legend_text_colour        = \"#2b619e\",\n",
    "    legend_label_frequency    = 1) \n",
    "\n",
    "temp_legend = magics.mlegend (    \n",
    "    legend_display_type       = \"continuous\",\n",
    "    legend_automatic_position = \"right\",\n",
    "    legend_title              = \"on\",\n",
    "    legend_title_text         = \"Temperature at 850 hPa\",\n",
    "    legend_text_font_size     = \"0.45\",\n",
    "    legend_text_colour        = \"#2b619e\",\n",
    "    legend_text_composition    = \"user_text_only\",\n",
    "    legend_values_list         = [-30.,-20.,-10.,0.,10.,20.,30.])\n",
    "\n",
    "bt_legend = magics.mlegend(\n",
    "    legend_display_type       = \"continuous\",\n",
    "    legend_automatic_position = \"right\",\n",
    "    legend_title              = \"on\",\n",
    "    legend_title_text         = \"Brightness temperature\",\n",
    "    legend_text_font_size     = \"0.45\",\n",
    "    legend_text_colour        = \"#2b619e\",\n",
    "    legend_label_frequency    = 4,\n",
    "    legend_user_minimum       = \"on\",\n",
    "    legend_user_minimum_text  = \"< 200\",\n",
    "    legend_user_maximum       = \"on\",\n",
    "    legend_user_maximum_text  = \"> 320\",\n",
    "    legend_entry_border       = \"off\")\n",
    "\n",
    "symb_legend = magics.mlegend(\n",
    "    legend_user_lines =  [\"Rain\",\"Freezing rain\", \"Snow\", \"Wet snow\", \"Sleet\", \"Ice pellets\"],\n",
    "    legend_box_mode = \"positional\",\n",
    "    legend_text_composition = \"user_text_only\",\n",
    "    legend_text_colour = \"#2b619e\",   \n",
    "    legend_text_font_size = 0.4,\n",
    "    legend_box_y_position = 11.1,\n",
    "    legend_box_x_position = -0.7,\n",
    "    legend_box_x_length = 15.00,\n",
    "    legend_box_y_length = 2.5)"
   ]
  },
  {
   "cell_type": "markdown",
   "metadata": {},
   "source": [
    "### Text definitions\n",
    "\n",
    "First four texts are titles at automatic positions, and the last 2 are there as lables for explanation of page and subpage.  \n",
    "As you can see, you can add HTML symbols in title too."
   ]
  },
  {
   "cell_type": "code",
   "execution_count": 4,
   "metadata": {
    "collapsed": true
   },
   "outputs": [],
   "source": [
    "top_left_text     = magics.mtext(text_lines = [\"Temperature at 850 hPa and Geopotential height at 500 hPa\"],\n",
    "                                 text_font_size = 0.55,\n",
    "                                 text_colour = \"charcoal\")\n",
    "bottom_right_text    = magics.mtext(text_lines = [\" &#9730; Total precipitation &#9748; \"],\n",
    "                                 text_colour = \"charcoal\",\n",
    "                                 text_font_size = 0.6)\n",
    "bottom_left_text  = magics.mtext(text_lines = [\"Brightness temperature\"],\n",
    "                                 text_colour = \"charcoal\",\n",
    "                                 text_font_size = 0.6)\n",
    "top_right_text = magics.mtext(text_lines = [\"  &#10052;  Precipitation type   &#10053;\"],\n",
    "                                 text_colour = \"charcoal\",\n",
    "                                 text_font_size = 0.6)\n",
    "\n",
    "additional_text_page = magics.mtext(\n",
    "    text_lines = [\"&larr;              PAGE              &rarr;\"],\n",
    "    text_colour         = \"red\",\n",
    "    text_font_size      = 1.4,\n",
    "    text_mode           = \"positional\",\n",
    "    text_box_x_position = 3.75,\n",
    "    text_box_y_position = 13.50)\n",
    "\n",
    "additional_text_subpage = magics.mtext(\n",
    "    text_lines = [\"&larr;         SUBPAGE         &rarr;\"],\n",
    "    text_colour = \"red\",\n",
    "    text_font_size = 1.2,\n",
    "    text_mode           = \"positional\",\n",
    "    text_box_x_position = 3.25,\n",
    "    text_box_y_position = 4.50)"
   ]
  },
  {
   "cell_type": "markdown",
   "metadata": {},
   "source": [
    "### Finally, A bit of layout\n",
    "\n",
    "In order to put 4 maps on our final product we have to define size of the superpage (**super_page_x_length / super_page_y_length**) and positions and lenghts of 4 pages. \n",
    "\n",
    "Top left page will have a page frame in order to help you understand the superpage/page/subpage concept."
   ]
  },
  {
   "cell_type": "code",
   "execution_count": 5,
   "metadata": {},
   "outputs": [],
   "source": [
    "top_left = magics.page(\n",
    "    layout          = 'positional', \n",
    "    page_x_length   = 15.,\n",
    "    page_y_length   = 15.,\n",
    "    page_frame      = 'on',\n",
    "    page_id_line    = 'off',\n",
    "    page_x_position = 0.,\n",
    "    page_y_position = 14.,\n",
    "    super_page_x_length = 30.00,\n",
    "    super_page_y_length = 30.00)\n",
    "\n",
    "top_right = magics.page(\n",
    "    page_frame         = 'off',\n",
    "    layout             = 'positional',\n",
    "    page_x_length      = 15.,\n",
    "    page_y_length      = 15.,\n",
    "    page_id_line       = 'off',\n",
    "    page_x_position    = 14.7,\n",
    "    page_y_position    = 14.\n",
    "        )\n",
    "\n",
    "bottom_right = magics.page(  \n",
    "    page_frame         = 'off',\n",
    "    layout             = 'positional',\n",
    "    page_x_length      = 15.,\n",
    "    page_y_length      = 15.,\n",
    "    page_id_line       = 'off',\n",
    "    page_x_position    = 14.7,\n",
    "    page_y_position    = 0.5\n",
    "        )\n",
    "\n",
    "bottom_left = magics.page( \n",
    "    page_frame         = 'off',\n",
    "    layout             = 'positional',\n",
    "    page_x_length      = 15.,\n",
    "    page_y_length      = 15.,\n",
    "    page_id_line       = 'off',\n",
    "    page_x_position    = 0.,\n",
    "    page_y_position    = 0.5\n",
    "        )"
   ]
  },
  {
   "cell_type": "code",
   "execution_count": 13,
   "metadata": {},
   "outputs": [],
   "source": [
    "out =magics.output(\n",
    "        output_formats=['png'],\n",
    "        output_name='complex',\n",
    "        output_width=800,\n",
    "        super_page_x_length=60.,\n",
    "        super_page_y_length=60.,\n",
    "        page_id_line='off',\n",
    "        output_name_first_page_number='off')"
   ]
  },
  {
   "cell_type": "markdown",
   "metadata": {
    "slideshow": {
     "slide_type": "slide"
    }
   },
   "source": [
    "### The plot command\n",
    "\n",
    "All that is left is to put everything in the plot command.  \n",
    "Each page has page definition, projection, data, shading for data, coastline, legend and text."
   ]
  },
  {
   "cell_type": "code",
   "execution_count": 14,
   "metadata": {
    "slideshow": {
     "slide_type": "subslide"
    }
   },
   "outputs": [
    {
     "data": {
      "image/png": "",
      "text/plain": [
       "<IPython.core.display.Image object>"
      ]
     },
     "execution_count": 14,
     "metadata": {},
     "output_type": "execute_result"
    }
   ],
   "source": [
    "magics.plot(out,top_left, projection, temperature, t_cont, geopotential, ecmwf_cont, foreground, temp_legend,top_left_text, \n",
    "            additional_text_subpage, additional_text_page,\n",
    "            bottom_right, projection, light_background, precipitation, tp_cont, tp_legend, foreground, bottom_right_text,\n",
    "            bottom_left, projection, sat_ir, ir_clouds, foreground, bt_legend, bottom_left_text,\n",
    "            top_right, projection, dark_background, ptype, symbol_plotting, symb_legend, top_right_text)"
   ]
  }
 ],
 "metadata": {
  "kernelspec": {
   "display_name": "Python 2",
   "language": "python",
   "name": "python2"
  },
  "language_info": {
   "codemirror_mode": {
    "name": "ipython",
    "version": 2
   },
   "file_extension": ".py",
   "mimetype": "text/x-python",
   "name": "python",
   "nbconvert_exporter": "python",
   "pygments_lexer": "ipython2",
   "version": "2.7.12"
  }
 },
 "nbformat": 4,
 "nbformat_minor": 2
}
