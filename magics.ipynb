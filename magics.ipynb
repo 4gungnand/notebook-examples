{
 "cells": [
  {
   "cell_type": "markdown",
   "metadata": {},
   "source": [
    "\n",
    "# Introduction to magics \n",
    "\n",
    "[Magics](https://confluence.ecmwf.int/display/MAGP/Magics) is the latest generation of the ECMWF's meteorological plotting software. It offers easy to visualise data coded in meteorolofgcal format such GRIB, NetCDF , and BUFR.\n",
    "\n",
    "Its simple python interface allows users to quickly setup projection and geographical areas, and choose the visualisation. \n",
    "\n",
    "This gallery will help you discover its functionality\n",
    "\n",
    "  - Easy visualisation of [GRIB data](magics/grib.ipynb)\n",
    "  - Easy visualisation of NetCDF data\n",
    "  - Easy visualisation of xarray data\n",
    "  \n",
    "## Gallery\n",
    "  \n",
    "  ### Setting a projection - Playing with Coastlines\n",
    "  \n",
    "  [![Cylindrical](magics/cylindrical.png)](magics/cylindrical.ipynb)   |   [![PolarStereographic](magics/polar-stereo.png)](magics/polar-stereo.ipynb)\n",
    "   | \n",
    "  \n",
    "   ### Playing with visualisation options \n",
    " \n",
    " \n",
    " "
   ]
  },
  {
   "cell_type": "code",
   "execution_count": null,
   "metadata": {},
   "outputs": [],
   "source": []
  },
  {
   "cell_type": "code",
   "execution_count": null,
   "metadata": {},
   "outputs": [],
   "source": []
  }
 ],
 "metadata": {
  "kernelspec": {
   "display_name": "Python 3",
   "language": "python",
   "name": "python3"
  },
  "language_info": {
   "codemirror_mode": {
    "name": "ipython",
    "version": 3
   },
   "file_extension": ".py",
   "mimetype": "text/x-python",
   "name": "python",
   "nbconvert_exporter": "python",
   "pygments_lexer": "ipython3",
   "version": "3.7.0"
  }
 },
 "nbformat": 4,
 "nbformat_minor": 2
}
