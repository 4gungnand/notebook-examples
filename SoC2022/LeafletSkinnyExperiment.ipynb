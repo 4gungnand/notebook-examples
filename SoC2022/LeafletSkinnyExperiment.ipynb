{
 "cells": [
  {
   "cell_type": "code",
   "execution_count": 1,
   "id": "contained-excitement",
   "metadata": {},
   "outputs": [],
   "source": [
    "from ipyleaflet import WMSLayer, Map, projections\n",
    "import subprocess"
   ]
  },
  {
   "cell_type": "code",
   "execution_count": 5,
   "id": "16c2ff11",
   "metadata": {},
   "outputs": [],
   "source": [
    "# #help(Map)\n",
    "data_file = \"/Users/edwardcomyn-platt/Work/Test_Data/era5/translated/adaptor_rsds-5cf251b4-c280-4414-a875-3d0eec81250b.nc\"\n",
    "sp = subprocess.Popen(\n",
    "    [\"skinny-wms\",\"--path\", data_file,],\n",
    "    stdout=subprocess.DEVNULL,\n",
    "    stderr=subprocess.STDOUT,\n",
    ")"
   ]
  },
  {
   "cell_type": "code",
   "execution_count": 6,
   "id": "protecting-voltage",
   "metadata": {},
   "outputs": [],
   "source": [
    "m = Map(\n",
    "    center=(-46, 140), zoom=1,\n",
    "    #crs=projections.EPSG4326\n",
    ")\n",
    "\n",
    "#dir(m)"
   ]
  },
  {
   "cell_type": "code",
   "execution_count": 7,
   "id": "4be3a63a",
   "metadata": {},
   "outputs": [
    {
     "name": "stdout",
     "output_type": "stream",
     "text": [
      "Help on class Popen in module subprocess:\n",
      "\n",
      "class Popen(builtins.object)\n",
      " |  Popen(args, bufsize=-1, executable=None, stdin=None, stdout=None, stderr=None, preexec_fn=None, close_fds=True, shell=False, cwd=None, env=None, universal_newlines=None, startupinfo=None, creationflags=0, restore_signals=True, start_new_session=False, pass_fds=(), *, encoding=None, errors=None, text=None)\n",
      " |  \n",
      " |  Execute a child program in a new process.\n",
      " |  \n",
      " |  For a complete description of the arguments see the Python documentation.\n",
      " |  \n",
      " |  Arguments:\n",
      " |    args: A string, or a sequence of program arguments.\n",
      " |  \n",
      " |    bufsize: supplied as the buffering argument to the open() function when\n",
      " |        creating the stdin/stdout/stderr pipe file objects\n",
      " |  \n",
      " |    executable: A replacement program to execute.\n",
      " |  \n",
      " |    stdin, stdout and stderr: These specify the executed programs' standard\n",
      " |        input, standard output and standard error file handles, respectively.\n",
      " |  \n",
      " |    preexec_fn: (POSIX only) An object to be called in the child process\n",
      " |        just before the child is executed.\n",
      " |  \n",
      " |    close_fds: Controls closing or inheriting of file descriptors.\n",
      " |  \n",
      " |    shell: If true, the command will be executed through the shell.\n",
      " |  \n",
      " |    cwd: Sets the current directory before the child is executed.\n",
      " |  \n",
      " |    env: Defines the environment variables for the new process.\n",
      " |  \n",
      " |    text: If true, decode stdin, stdout and stderr using the given encoding\n",
      " |        (if set) or the system default otherwise.\n",
      " |  \n",
      " |    universal_newlines: Alias of text, provided for backwards compatibility.\n",
      " |  \n",
      " |    startupinfo and creationflags (Windows only)\n",
      " |  \n",
      " |    restore_signals (POSIX only)\n",
      " |  \n",
      " |    start_new_session (POSIX only)\n",
      " |  \n",
      " |    pass_fds (POSIX only)\n",
      " |  \n",
      " |    encoding and errors: Text mode encoding and error handling to use for\n",
      " |        file objects stdin, stdout and stderr.\n",
      " |  \n",
      " |  Attributes:\n",
      " |      stdin, stdout, stderr, pid, returncode\n",
      " |  \n",
      " |  Methods defined here:\n",
      " |  \n",
      " |  __del__(self, _maxsize=9223372036854775807, _warn=<built-in function warn>)\n",
      " |  \n",
      " |  __enter__(self)\n",
      " |  \n",
      " |  __exit__(self, exc_type, value, traceback)\n",
      " |  \n",
      " |  __init__(self, args, bufsize=-1, executable=None, stdin=None, stdout=None, stderr=None, preexec_fn=None, close_fds=True, shell=False, cwd=None, env=None, universal_newlines=None, startupinfo=None, creationflags=0, restore_signals=True, start_new_session=False, pass_fds=(), *, encoding=None, errors=None, text=None)\n",
      " |      Create new Popen instance.\n",
      " |  \n",
      " |  communicate(self, input=None, timeout=None)\n",
      " |      Interact with process: Send data to stdin and close it.\n",
      " |      Read data from stdout and stderr, until end-of-file is\n",
      " |      reached.  Wait for process to terminate.\n",
      " |      \n",
      " |      The optional \"input\" argument should be data to be sent to the\n",
      " |      child process, or None, if no data should be sent to the child.\n",
      " |      communicate() returns a tuple (stdout, stderr).\n",
      " |      \n",
      " |      By default, all communication is in bytes, and therefore any\n",
      " |      \"input\" should be bytes, and the (stdout, stderr) will be bytes.\n",
      " |      If in text mode (indicated by self.text_mode), any \"input\" should\n",
      " |      be a string, and (stdout, stderr) will be strings decoded\n",
      " |      according to locale encoding, or by \"encoding\" if set. Text mode\n",
      " |      is triggered by setting any of text, encoding, errors or\n",
      " |      universal_newlines.\n",
      " |  \n",
      " |  kill(self)\n",
      " |      Kill the process with SIGKILL\n",
      " |  \n",
      " |  poll(self)\n",
      " |      Check if child process has terminated. Set and return returncode\n",
      " |      attribute.\n",
      " |  \n",
      " |  send_signal(self, sig)\n",
      " |      Send a signal to the process.\n",
      " |  \n",
      " |  terminate(self)\n",
      " |      Terminate the process with SIGTERM\n",
      " |  \n",
      " |  wait(self, timeout=None)\n",
      " |      Wait for child process to terminate; returns self.returncode.\n",
      " |  \n",
      " |  ----------------------------------------------------------------------\n",
      " |  Data descriptors defined here:\n",
      " |  \n",
      " |  __dict__\n",
      " |      dictionary for instance variables (if defined)\n",
      " |  \n",
      " |  __weakref__\n",
      " |      list of weak references to the object (if defined)\n",
      " |  \n",
      " |  universal_newlines\n",
      "\n"
     ]
    }
   ],
   "source": [
    "#help(subprocess.Popen)"
   ]
  },
  {
   "cell_type": "code",
   "execution_count": 8,
   "id": "4e6aaee4",
   "metadata": {},
   "outputs": [],
   "source": [
    "#rsds = cads.catalogue.retrieve('ERA5' {'variable':'rsds',**timenplace})"
   ]
  },
  {
   "cell_type": "code",
   "execution_count": 9,
   "id": "539dfd34",
   "metadata": {},
   "outputs": [],
   "source": [
    "#countries = cads.shapes.countries()"
   ]
  },
  {
   "cell_type": "code",
   "execution_count": 10,
   "id": "framed-pillow",
   "metadata": {},
   "outputs": [],
   "source": [
    "\n",
    "wms = WMSLayer(\n",
    "    url=\"http://127.0.0.1:5000/wms\",\n",
    "    layers=\"rsds\", format='image/png',\n",
    "    transparent=True\n",
    ")\n",
    "m.add_layer(wms)"
   ]
  },
  {
   "cell_type": "code",
   "execution_count": 11,
   "id": "67b4fc5a",
   "metadata": {},
   "outputs": [
    {
     "data": {
      "application/vnd.jupyter.widget-view+json": {
       "model_id": "ed195847483c401ab7879941c86affca",
       "version_major": 2,
       "version_minor": 0
      },
      "text/plain": [
       "Map(center=[-46, 140], controls=(ZoomControl(options=['position', 'zoom_in_text', 'zoom_in_title', 'zoom_out_t…"
      ]
     },
     "metadata": {},
     "output_type": "display_data"
    }
   ],
   "source": [
    "m"
   ]
  },
  {
   "cell_type": "code",
   "execution_count": null,
   "id": "b68dfade",
   "metadata": {},
   "outputs": [],
   "source": []
  }
 ],
 "metadata": {
  "kernelspec": {
   "display_name": "Python 3 (ipykernel)",
   "language": "python",
   "name": "python3"
  },
  "language_info": {
   "codemirror_mode": {
    "name": "ipython",
    "version": 3
   },
   "file_extension": ".py",
   "mimetype": "text/x-python",
   "name": "python",
   "nbconvert_exporter": "python",
   "pygments_lexer": "ipython3",
   "version": "3.8.11"
  }
 },
 "nbformat": 4,
 "nbformat_minor": 5
}
