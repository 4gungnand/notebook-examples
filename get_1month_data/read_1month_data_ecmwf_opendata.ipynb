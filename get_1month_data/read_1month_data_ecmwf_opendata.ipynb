{
 "cells": [
  {
   "cell_type": "code",
   "execution_count": 1,
   "id": "b8a21e48",
   "metadata": {},
   "outputs": [],
   "source": [
    "import metview as mv\n",
    "import datetime\n",
    "from ecmwf.opendata import Client"
   ]
  },
  {
   "cell_type": "markdown",
   "id": "d6d40e86",
   "metadata": {},
   "source": [
    "# Proses data ke CSV"
   ]
  },
  {
   "cell_type": "markdown",
   "id": "0232825b",
   "metadata": {},
   "source": [
    "# 1. Gabungkan semua file jadi satu dataset\n",
    "Sementara ini baru 3 hari data, tapi nanti kalau sudah 1 bulan bisa langsung gabung semua file jadi satu dataset."
   ]
  },
  {
   "cell_type": "code",
   "execution_count": 13,
   "id": "40fc70e4",
   "metadata": {},
   "outputs": [
    {
     "name": "stderr",
     "output_type": "stream",
     "text": [
      "/home/prema/miniconda3/envs/notebooks/lib/python3.13/site-packages/cfgrib/xarray_plugin.py:131: FutureWarning: In a future version, xarray will not decode the variable 'step' into a timedelta64 dtype based on the presence of a timedelta-like 'units' attribute by default. Instead it will rely on the presence of a timedelta64 'dtype' attribute, which is now xarray's default way of encoding timedelta64 values.\n",
      "To continue decoding into a timedelta64 dtype, either set `decode_timedelta=True` when opening this dataset, or add the attribute `dtype='timedelta64[ns]'` to this variable on disk.\n",
      "To opt-in to future behavior, set `decode_timedelta=False`.\n",
      "  vars, attrs, coord_names = xr.conventions.decode_cf_variables(\n",
      "/home/prema/miniconda3/envs/notebooks/lib/python3.13/site-packages/cfgrib/xarray_plugin.py:131: FutureWarning: In a future version, xarray will not decode the variable 'step' into a timedelta64 dtype based on the presence of a timedelta-like 'units' attribute by default. Instead it will rely on the presence of a timedelta64 'dtype' attribute, which is now xarray's default way of encoding timedelta64 values.\n",
      "To continue decoding into a timedelta64 dtype, either set `decode_timedelta=True` when opening this dataset, or add the attribute `dtype='timedelta64[ns]'` to this variable on disk.\n",
      "To opt-in to future behavior, set `decode_timedelta=False`.\n",
      "  vars, attrs, coord_names = xr.conventions.decode_cf_variables(\n",
      "/home/prema/miniconda3/envs/notebooks/lib/python3.13/site-packages/cfgrib/xarray_plugin.py:131: FutureWarning: In a future version, xarray will not decode the variable 'step' into a timedelta64 dtype based on the presence of a timedelta-like 'units' attribute by default. Instead it will rely on the presence of a timedelta64 'dtype' attribute, which is now xarray's default way of encoding timedelta64 values.\n",
      "To continue decoding into a timedelta64 dtype, either set `decode_timedelta=True` when opening this dataset, or add the attribute `dtype='timedelta64[ns]'` to this variable on disk.\n",
      "To opt-in to future behavior, set `decode_timedelta=False`.\n",
      "  vars, attrs, coord_names = xr.conventions.decode_cf_variables(\n"
     ]
    },
    {
     "name": "stdout",
     "output_type": "stream",
     "text": [
      "<xarray.Dataset> Size: 50MB\n",
      "Dimensions:            (time: 3, step: 4, latitude: 721, longitude: 1440)\n",
      "Coordinates:\n",
      "  * time               (time) datetime64[ns] 24B 2025-09-02 ... 2025-09-04\n",
      "  * step               (step) timedelta64[ns] 32B 00:00:00 06:00:00 ... 18:00:00\n",
      "    heightAboveGround  float64 8B 2.0\n",
      "  * latitude           (latitude) float64 6kB 90.0 89.75 89.5 ... -89.75 -90.0\n",
      "  * longitude          (longitude) float64 12kB -180.0 -179.8 ... 179.5 179.8\n",
      "    valid_time         (time, step) datetime64[ns] 96B 2025-09-02 ... 2025-09...\n",
      "Data variables:\n",
      "    t2m                (time, step, latitude, longitude) float32 50MB 268.6 ....\n",
      "Attributes:\n",
      "    GRIB_edition:            2\n",
      "    GRIB_centre:             ecmf\n",
      "    GRIB_centreDescription:  European Centre for Medium-Range Weather Forecasts\n",
      "    GRIB_subCentre:          0\n",
      "    Conventions:             CF-1.7\n",
      "    institution:             European Centre for Medium-Range Weather Forecasts\n",
      "    history:                 2025-09-05T12:14 GRIB to CDM+CF via cfgrib-0.9.1...\n"
     ]
    },
    {
     "name": "stderr",
     "output_type": "stream",
     "text": [
      "/tmp/ipykernel_14662/277129378.py:21: FutureWarning: In a future version of xarray the default value for coords will change from coords='different' to coords='minimal'. This is likely to lead to different results when multiple datasets have matching variables with overlapping values. To opt in to new defaults and get rid of these warnings now use `set_options(use_new_combine_kwarg_defaults=True) or set coords explicitly.\n",
      "  ds_all = xr.concat(datasets, dim=\"time\")\n"
     ]
    }
   ],
   "source": [
    "import xarray as xr\n",
    "from glob import glob\n",
    "\n",
    "files = sorted(glob(\"medium-2t-wind*.grib2\"))\n",
    "\n",
    "datasets = []\n",
    "for f in files:\n",
    "    try:\n",
    "        ds = xr.open_dataset(\n",
    "            f,\n",
    "            engine=\"cfgrib\",\n",
    "            backend_kwargs={\n",
    "                \"filter_by_keys\": {\"shortName\": \"2t\"}  # hanya ambil t2m\n",
    "            }\n",
    "        )\n",
    "        datasets.append(ds)\n",
    "    except Exception as e:\n",
    "        print(f\"Skip {f}: {e}\")\n",
    "\n",
    "# Gabungkan sepanjang dimensi time\n",
    "ds_all = xr.concat(datasets, dim=\"time\")\n",
    "print(ds_all)"
   ]
  },
  {
   "cell_type": "markdown",
   "id": "413ba150",
   "metadata": {},
   "source": [
    "# 2. Ambil variabel (contoh suhu 2m)"
   ]
  },
  {
   "cell_type": "code",
   "execution_count": 16,
   "id": "db0eed2e",
   "metadata": {},
   "outputs": [],
   "source": [
    "# Ambil variabel (contoh suhu 2m)\n",
    "t2m = ds_all['t2m']\n",
    "\n",
    "# Konversi ke Celsius\n",
    "t2m_celsius = t2m - 273.15"
   ]
  },
  {
   "cell_type": "markdown",
   "id": "989a127a",
   "metadata": {},
   "source": [
    "# 3. Ekstrak data ke NumPy array"
   ]
  },
  {
   "cell_type": "code",
   "execution_count": 17,
   "id": "52a79915",
   "metadata": {},
   "outputs": [
    {
     "name": "stdout",
     "output_type": "stream",
     "text": [
      "Shape data: (3, 4, 721, 1440)\n"
     ]
    }
   ],
   "source": [
    "import numpy as np\n",
    "\n",
    "# Bentuk data: (time, step, lat, lon)\n",
    "arr = t2m_celsius.values\n",
    "\n",
    "print(\"Shape data:\", arr.shape)  # contoh: (31, 24, 721, 1440)"
   ]
  },
  {
   "cell_type": "markdown",
   "id": "c241c14c",
   "metadata": {},
   "source": [
    "# 4. Ekstrak data ke CSV (contoh: ambil 1 lokasi tertentu)\n",
    "\n",
    "Biasanya ML butuh tabular dataset (time series). Kita bisa pilih 1 gridpoint (lat/lon) dan simpan ke CSV."
   ]
  },
  {
   "cell_type": "code",
   "execution_count": 18,
   "id": "f6a8c5ae",
   "metadata": {},
   "outputs": [
    {
     "name": "stdout",
     "output_type": "stream",
     "text": [
      "        time            step  heightAboveGround  latitude  longitude  \\\n",
      "0 2025-09-02 0 days 00:00:00                2.0     35.75     139.75   \n",
      "1 2025-09-02 0 days 06:00:00                2.0     35.75     139.75   \n",
      "2 2025-09-02 0 days 12:00:00                2.0     35.75     139.75   \n",
      "3 2025-09-02 0 days 18:00:00                2.0     35.75     139.75   \n",
      "4 2025-09-03 0 days 00:00:00                2.0     35.75     139.75   \n",
      "\n",
      "           valid_time        t2m  \n",
      "0 2025-09-02 00:00:00  32.500824  \n",
      "1 2025-09-02 06:00:00  35.352875  \n",
      "2 2025-09-02 12:00:00  30.665466  \n",
      "3 2025-09-02 18:00:00  28.483734  \n",
      "4 2025-09-03 00:00:00  32.919647  \n"
     ]
    }
   ],
   "source": [
    "# Pilih lokasi (misalnya Tokyo: lat 35.7, lon 139.7)\n",
    "lat, lon = 35.7, 139.7\n",
    "\n",
    "# Cari grid terdekat\n",
    "point = t2m_celsius.sel(latitude=lat, longitude=lon, method=\"nearest\")\n",
    "\n",
    "# Ubah ke dataframe\n",
    "df = point.to_dataframe().reset_index()\n",
    "\n",
    "# Simpan ke CSV\n",
    "df.to_csv(\"tokyo_temp_last_month.csv\", index=False)\n",
    "\n",
    "print(df.head())"
   ]
  },
  {
   "cell_type": "markdown",
   "id": "a6971ac4",
   "metadata": {},
   "source": [
    "# 5. Siapkan data untuk ML"
   ]
  },
  {
   "cell_type": "code",
   "execution_count": 20,
   "id": "49ba49fb",
   "metadata": {},
   "outputs": [
    {
     "data": {
      "text/html": [
       "<div>\n",
       "<style scoped>\n",
       "    .dataframe tbody tr th:only-of-type {\n",
       "        vertical-align: middle;\n",
       "    }\n",
       "\n",
       "    .dataframe tbody tr th {\n",
       "        vertical-align: top;\n",
       "    }\n",
       "\n",
       "    .dataframe thead th {\n",
       "        text-align: right;\n",
       "    }\n",
       "</style>\n",
       "<table border=\"1\" class=\"dataframe\">\n",
       "  <thead>\n",
       "    <tr style=\"text-align: right;\">\n",
       "      <th></th>\n",
       "      <th>time</th>\n",
       "      <th>step</th>\n",
       "      <th>heightAboveGround</th>\n",
       "      <th>latitude</th>\n",
       "      <th>longitude</th>\n",
       "      <th>valid_time</th>\n",
       "      <th>t2m</th>\n",
       "    </tr>\n",
       "  </thead>\n",
       "  <tbody>\n",
       "    <tr>\n",
       "      <th>0</th>\n",
       "      <td>2025-09-02</td>\n",
       "      <td>0 days 00:00:00</td>\n",
       "      <td>2.0</td>\n",
       "      <td>35.75</td>\n",
       "      <td>139.75</td>\n",
       "      <td>2025-09-02 00:00:00</td>\n",
       "      <td>32.500824</td>\n",
       "    </tr>\n",
       "    <tr>\n",
       "      <th>1</th>\n",
       "      <td>2025-09-02</td>\n",
       "      <td>0 days 06:00:00</td>\n",
       "      <td>2.0</td>\n",
       "      <td>35.75</td>\n",
       "      <td>139.75</td>\n",
       "      <td>2025-09-02 06:00:00</td>\n",
       "      <td>35.352875</td>\n",
       "    </tr>\n",
       "    <tr>\n",
       "      <th>2</th>\n",
       "      <td>2025-09-02</td>\n",
       "      <td>0 days 12:00:00</td>\n",
       "      <td>2.0</td>\n",
       "      <td>35.75</td>\n",
       "      <td>139.75</td>\n",
       "      <td>2025-09-02 12:00:00</td>\n",
       "      <td>30.665466</td>\n",
       "    </tr>\n",
       "    <tr>\n",
       "      <th>3</th>\n",
       "      <td>2025-09-02</td>\n",
       "      <td>0 days 18:00:00</td>\n",
       "      <td>2.0</td>\n",
       "      <td>35.75</td>\n",
       "      <td>139.75</td>\n",
       "      <td>2025-09-02 18:00:00</td>\n",
       "      <td>28.483734</td>\n",
       "    </tr>\n",
       "    <tr>\n",
       "      <th>4</th>\n",
       "      <td>2025-09-03</td>\n",
       "      <td>0 days 00:00:00</td>\n",
       "      <td>2.0</td>\n",
       "      <td>35.75</td>\n",
       "      <td>139.75</td>\n",
       "      <td>2025-09-03 00:00:00</td>\n",
       "      <td>32.919647</td>\n",
       "    </tr>\n",
       "    <tr>\n",
       "      <th>5</th>\n",
       "      <td>2025-09-03</td>\n",
       "      <td>0 days 06:00:00</td>\n",
       "      <td>2.0</td>\n",
       "      <td>35.75</td>\n",
       "      <td>139.75</td>\n",
       "      <td>2025-09-03 06:00:00</td>\n",
       "      <td>34.774690</td>\n",
       "    </tr>\n",
       "    <tr>\n",
       "      <th>6</th>\n",
       "      <td>2025-09-03</td>\n",
       "      <td>0 days 12:00:00</td>\n",
       "      <td>2.0</td>\n",
       "      <td>35.75</td>\n",
       "      <td>139.75</td>\n",
       "      <td>2025-09-03 12:00:00</td>\n",
       "      <td>30.089020</td>\n",
       "    </tr>\n",
       "    <tr>\n",
       "      <th>7</th>\n",
       "      <td>2025-09-03</td>\n",
       "      <td>0 days 18:00:00</td>\n",
       "      <td>2.0</td>\n",
       "      <td>35.75</td>\n",
       "      <td>139.75</td>\n",
       "      <td>2025-09-03 18:00:00</td>\n",
       "      <td>26.102448</td>\n",
       "    </tr>\n",
       "    <tr>\n",
       "      <th>8</th>\n",
       "      <td>2025-09-04</td>\n",
       "      <td>0 days 00:00:00</td>\n",
       "      <td>2.0</td>\n",
       "      <td>35.75</td>\n",
       "      <td>139.75</td>\n",
       "      <td>2025-09-04 00:00:00</td>\n",
       "      <td>28.676880</td>\n",
       "    </tr>\n",
       "    <tr>\n",
       "      <th>9</th>\n",
       "      <td>2025-09-04</td>\n",
       "      <td>0 days 06:00:00</td>\n",
       "      <td>2.0</td>\n",
       "      <td>35.75</td>\n",
       "      <td>139.75</td>\n",
       "      <td>2025-09-04 06:00:00</td>\n",
       "      <td>28.185577</td>\n",
       "    </tr>\n",
       "    <tr>\n",
       "      <th>10</th>\n",
       "      <td>2025-09-04</td>\n",
       "      <td>0 days 12:00:00</td>\n",
       "      <td>2.0</td>\n",
       "      <td>35.75</td>\n",
       "      <td>139.75</td>\n",
       "      <td>2025-09-04 12:00:00</td>\n",
       "      <td>26.075287</td>\n",
       "    </tr>\n",
       "    <tr>\n",
       "      <th>11</th>\n",
       "      <td>2025-09-04</td>\n",
       "      <td>0 days 18:00:00</td>\n",
       "      <td>2.0</td>\n",
       "      <td>35.75</td>\n",
       "      <td>139.75</td>\n",
       "      <td>2025-09-04 18:00:00</td>\n",
       "      <td>25.693756</td>\n",
       "    </tr>\n",
       "  </tbody>\n",
       "</table>\n",
       "</div>"
      ],
      "text/plain": [
       "          time             step  heightAboveGround  latitude  longitude  \\\n",
       "0   2025-09-02  0 days 00:00:00                2.0     35.75     139.75   \n",
       "1   2025-09-02  0 days 06:00:00                2.0     35.75     139.75   \n",
       "2   2025-09-02  0 days 12:00:00                2.0     35.75     139.75   \n",
       "3   2025-09-02  0 days 18:00:00                2.0     35.75     139.75   \n",
       "4   2025-09-03  0 days 00:00:00                2.0     35.75     139.75   \n",
       "5   2025-09-03  0 days 06:00:00                2.0     35.75     139.75   \n",
       "6   2025-09-03  0 days 12:00:00                2.0     35.75     139.75   \n",
       "7   2025-09-03  0 days 18:00:00                2.0     35.75     139.75   \n",
       "8   2025-09-04  0 days 00:00:00                2.0     35.75     139.75   \n",
       "9   2025-09-04  0 days 06:00:00                2.0     35.75     139.75   \n",
       "10  2025-09-04  0 days 12:00:00                2.0     35.75     139.75   \n",
       "11  2025-09-04  0 days 18:00:00                2.0     35.75     139.75   \n",
       "\n",
       "             valid_time        t2m  \n",
       "0   2025-09-02 00:00:00  32.500824  \n",
       "1   2025-09-02 06:00:00  35.352875  \n",
       "2   2025-09-02 12:00:00  30.665466  \n",
       "3   2025-09-02 18:00:00  28.483734  \n",
       "4   2025-09-03 00:00:00  32.919647  \n",
       "5   2025-09-03 06:00:00  34.774690  \n",
       "6   2025-09-03 12:00:00  30.089020  \n",
       "7   2025-09-03 18:00:00  26.102448  \n",
       "8   2025-09-04 00:00:00  28.676880  \n",
       "9   2025-09-04 06:00:00  28.185577  \n",
       "10  2025-09-04 12:00:00  26.075287  \n",
       "11  2025-09-04 18:00:00  25.693756  "
      ]
     },
     "execution_count": 20,
     "metadata": {},
     "output_type": "execute_result"
    }
   ],
   "source": [
    "import pandas as pd\n",
    "\n",
    "# Baca CSV\n",
    "df = pd.read_csv(\"tokyo_temp_last_month.csv\")\n",
    "df"
   ]
  },
  {
   "cell_type": "code",
   "execution_count": 22,
   "id": "80435bf8",
   "metadata": {},
   "outputs": [
    {
     "name": "stdout",
     "output_type": "stream",
     "text": [
      "X shape: (12, 1) y shape: (12,)\n"
     ]
    }
   ],
   "source": [
    "# Buat target = suhu +24 jam\n",
    "df[\"target\"] = df[\"t2m\"].shift(-24)\n",
    "\n",
    "# X = fitur (suhu saat ini), y = target (besok)\n",
    "X = df[[\"t2m\"]].values\n",
    "y = df[\"target\"].values\n",
    "print(\"X shape:\", X.shape, \"y shape:\", y.shape)"
   ]
  }
 ],
 "metadata": {
  "kernelspec": {
   "display_name": "notebooks",
   "language": "python",
   "name": "python3"
  },
  "language_info": {
   "codemirror_mode": {
    "name": "ipython",
    "version": 3
   },
   "file_extension": ".py",
   "mimetype": "text/x-python",
   "name": "python",
   "nbconvert_exporter": "python",
   "pygments_lexer": "ipython3",
   "version": "3.13.7"
  }
 },
 "nbformat": 4,
 "nbformat_minor": 5
}
