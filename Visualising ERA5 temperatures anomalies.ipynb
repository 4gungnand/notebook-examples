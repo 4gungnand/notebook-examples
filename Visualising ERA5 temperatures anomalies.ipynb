{
 "cells": [
  {
   "cell_type": "markdown",
   "metadata": {},
   "source": [
    "### Visualising ERA5 temperatures anomalies\n",
    "\n",
    "In this example, we retrieve the ERA5 temperature anomalies from the [Copernicus Climate Datastore](https://cds.climate.copernicus.eu/#!/home) \n",
    "using the [cdsapi](https://cds.climate.copernicus.eu/api-how-to), and play with [Magics](https://confluence.ecmwf.int/display/MAGP/Magics) to visualise the result. "
   ]
  },
  {
   "cell_type": "code",
   "execution_count": 58,
   "metadata": {
    "scrolled": true
   },
   "outputs": [],
   "source": [
    "import cdsapi\n",
    "\n",
    "\n",
    "c = cdsapi.Client()\n",
    "\n",
    "year = 2108\n",
    "\n",
    "def getdata(y):\n",
    "    year = \"%d\" % y\n",
    "    print (year)\n",
    "    c.retrieve(\n",
    "        'ecv-for-climate-change',\n",
    "        {\n",
    "            'format' : 'tgz',\n",
    "            'variable':'surface_air_temperature',\n",
    "            'product_type':'anomaly',\n",
    "            'time_aggregation':'12_month',\n",
    "            'year': year,\n",
    "            'month':[\n",
    "            '01','02','03',\n",
    "            '04','05','06',\n",
    "            '07','08','09',\n",
    "            '10','11','12'\n",
    "        ]\n",
    "        },\n",
    "        'anomaly.tgz')"
   ]
  },
  {
   "cell_type": "code",
   "execution_count": 59,
   "metadata": {},
   "outputs": [
    {
     "name": "stdout",
     "output_type": "stream",
     "text": [
      "Extracting anomaly grib files for 2108\n"
     ]
    }
   ],
   "source": [
    "import tarfile\n",
    "tar = tarfile.open(\"anomaly.tgz\")\n",
    "tar.extractall()\n",
    "tar.close()\n",
    "print (\"Extracting anomaly grib files for\", year)"
   ]
  },
  {
   "cell_type": "code",
   "execution_count": 56,
   "metadata": {},
   "outputs": [
    {
     "data": {
      "application/vnd.jupyter.widget-view+json": {
       "model_id": "ded3b0deb318490fb997abec95cb3cae",
       "version_major": 2,
       "version_minor": 0
      },
      "text/plain": [
       "interactive(children=(Dropdown(description='month', options=(('January', 1), ('February', 2), ('March', 3), ('…"
      ]
     },
     "metadata": {},
     "output_type": "display_data"
    },
    {
     "data": {
      "text/plain": [
       "<function __main__.plot(month)>"
      ]
     },
     "execution_count": 56,
     "metadata": {},
     "output_type": "execute_result"
    }
   ],
   "source": [
    "from Magics import macro as magics\n",
    "\n",
    "year = 2018\n",
    "\n",
    "def plot(month):\n",
    "    grib = '12month_anomaly_Global_ei_2T_%s%02d_v01.grib' % (year, month)\n",
    "    print (\"Plotting grib file --> \", grib)\n",
    "    \n",
    "    projection = magics.mmap(subpage_map_projection = \"mollweide\",)\n",
    "    data = magics.mgrib(grib_input_file_name = grib, \n",
    "                       grib_field_position = 1)\n",
    "\n",
    "    contour = magics.mcont(contour = \"off\",\n",
    "                            contour_level_selection_type      = \"level_list\",\n",
    "                            contour_level_list                = [-20.,-10.,0.,10.,20.],\n",
    "                            contour_gradients_step_list       = [20,20,20,20],\n",
    "                            contour_label                     = \"off\",\n",
    "                            contour_shade                     = \"on\",\n",
    "                            contour_shade_colour_method       = \"gradients\",\n",
    "                            contour_gradients_technique       = \"rgb\",\n",
    "                            contour_shade_method              = \"area_fill\",\n",
    "                            contour_gradients_colour_list     = [\"RGB(0.01961,0.251,0.4157)\",\"greenish_blue\",\"white\",\n",
    "                                                                 \"orangish_red\",\"RGB(0.3756,0.06648,0.05582)\"],\n",
    "                            contour_gradients_waypoint_method = \"ignore\",\n",
    "                            legend= True)\n",
    "\n",
    "    legend = magics.mlegend(legend_display_type = 'continuous',\n",
    "                           legend_entry_border = False)\n",
    "    title = magics.mtext()\n",
    "\n",
    "    coastlines = magics.mcoast(map_grid_colour='grey', \n",
    "                               map_grid_line_style='dash', \n",
    "                               map_grid_frame = True,\n",
    "                               map_grid_frame_thickness = 2,\n",
    "                               map_grid_frame_colour = 'grey')\n",
    "\n",
    "    return magics.plot(projection, data, contour, coastlines, legend, title)\n",
    "    \n",
    "interact(plot, month = [('January', 1), \n",
    "                      ('February', 2), \n",
    "                      ('March', 3), \n",
    "                      ('April', 4), \n",
    "                      ('May', 5),\n",
    "                      ('June', 6),\n",
    "                      ('July', 7),\n",
    "                      ('August', 8),\n",
    "                      ('September', 9),\n",
    "                      ('October', 10),\n",
    "                      ('November', 11),\n",
    "                      ('December', 12),\n",
    "                     ])"
   ]
  },
  {
   "cell_type": "code",
   "execution_count": null,
   "metadata": {},
   "outputs": [],
   "source": []
  },
  {
   "cell_type": "code",
   "execution_count": null,
   "metadata": {},
   "outputs": [],
   "source": []
  }
 ],
 "metadata": {
  "kernelspec": {
   "display_name": "Python 3",
   "language": "python",
   "name": "python3"
  },
  "language_info": {
   "codemirror_mode": {
    "name": "ipython",
    "version": 3
   },
   "file_extension": ".py",
   "mimetype": "text/x-python",
   "name": "python",
   "nbconvert_exporter": "python",
   "pygments_lexer": "ipython3",
   "version": "3.7.0"
  }
 },
 "nbformat": 4,
 "nbformat_minor": 2
}
